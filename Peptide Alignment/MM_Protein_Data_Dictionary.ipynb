{
 "cells": [
  {
   "cell_type": "markdown",
   "metadata": {},
   "source": [
    "### Load Libraries"
   ]
  },
  {
   "cell_type": "code",
   "execution_count": 20,
   "metadata": {},
   "outputs": [],
   "source": [
    "from Bio import SeqIO\n",
    "import pickle"
   ]
  },
  {
   "cell_type": "markdown",
   "metadata": {},
   "source": [
    "<br>\n",
    "<br>\n",
    "<br>\n",
    "<br>\n",
    "### Create data dictionary for each protein in the Mus Musculus Protein Fasta File"
   ]
  },
  {
   "cell_type": "code",
   "execution_count": 23,
   "metadata": {},
   "outputs": [
    {
     "name": "stderr",
     "output_type": "stream",
     "text": [
      "/Users/phamd/anaconda3/lib/python3.6/site-packages/Bio/Seq.py:407: BiopythonDeprecationWarning: This method is obsolete; please use str(my_seq) instead of my_seq.tostring().\n",
      "  BiopythonDeprecationWarning)\n"
     ]
    }
   ],
   "source": [
    "peptide_info = {}\n",
    "\n",
    "for seq_record in SeqIO.parse('Mus_musculus.GRCm38.pep.all.fa','fasta'):\n",
    "\n",
    "    temp_description = seq_record.description.split(' ')\n",
    "\n",
    "    if len(temp_description) > 8:\n",
    "        peptide_info[temp_description[0]] = {'chromosome'   : temp_description[2].replace('chromosome:',''),\n",
    "                                             'description'  : temp_description[8].replace('description:',''),\n",
    "                                             'gene_biotype' : temp_description[5].replace('gene_biotype:',''),\n",
    "                                             'gene_id'      : temp_description[3].replace('gene:',''),\n",
    "                                             'gene_symbol'  : temp_description[7].replace('gene_symbol:',''),\n",
    "                                             'sequence'     : seq_record.seq.tostring(),\n",
    "                                             'transcript_id': temp_description[4].replace('transcript:','')}\n",
    "    else:\n",
    "        peptide_info[temp_description[0]] = {'chromosome'   : temp_description[2].replace('chromosome:',''),\n",
    "                                             'gene_biotype' : temp_description[5].replace('gene_biotype:',''),\n",
    "                                             'gene_id'      : temp_description[3].replace('gene:',''),\n",
    "                                             'gene_symbol'  : temp_description[7].replace('gene_symbol:',''),\n",
    "                                             'sequence'     : seq_record.seq,\n",
    "                                             'transcript_id': temp_description[4].replace('transcript:','')}\n",
    "        \n",
    "        "
   ]
  },
  {
   "cell_type": "markdown",
   "metadata": {},
   "source": [
    "<br>\n",
    "<br>\n",
    "<br>\n",
    "<br>\n",
    "### Save the data dictionary"
   ]
  },
  {
   "cell_type": "code",
   "execution_count": 22,
   "metadata": {},
   "outputs": [],
   "source": [
    "output = open('mm_peptide_info.pkl', 'wb')\n",
    "\n",
    "pickle.dump(peptide_info, output)\n",
    "\n",
    "output.close()"
   ]
  },
  {
   "cell_type": "code",
   "execution_count": null,
   "metadata": {},
   "outputs": [],
   "source": []
  }
 ],
 "metadata": {
  "kernelspec": {
   "display_name": "Python 3",
   "language": "python",
   "name": "python3"
  },
  "language_info": {
   "codemirror_mode": {
    "name": "ipython",
    "version": 3
   },
   "file_extension": ".py",
   "mimetype": "text/x-python",
   "name": "python",
   "nbconvert_exporter": "python",
   "pygments_lexer": "ipython3",
   "version": "3.6.5"
  }
 },
 "nbformat": 4,
 "nbformat_minor": 2
}
